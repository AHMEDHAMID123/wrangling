{
 "cells": [
  {
   "cell_type": "markdown",
   "metadata": {},
   "source": [
    "# we rate dogs popularity \n",
    "#### we rate dogs account popularity  increase with time as the plot shows a steady upwards trends with the number of favourites counts and time passing from 2015 to 2017 which indicates more people start to recoginze it and like its content\n",
    "\n",
    "<img src='fav_count.png'>"
   ]
  },
  {
   "cell_type": "markdown",
   "metadata": {},
   "source": [
    "## insights from the statistics of the favorite couts\n",
    "\n",
    "#### the mean favorites per tweet is 8528 and max favorite ever recorded is  155168 while the minmum is 70 and 75% of the tweets have number of favourites less than 10545 and we can confirm that from the favorite counts hist as its right skweed with very low number of tweets with very high number of favorite counts\n",
    "\n",
    "\n",
    "\n",
    "<img src='fav_hist.png'>"
   ]
  },
  {
   "cell_type": "markdown",
   "metadata": {},
   "source": [
    "\n",
    "\n",
    "\n",
    "\n",
    "\n",
    "## A postive correlation between the retweets counts and the favorite counts\n",
    "#### there is a very clear postive correlation between the count of retweets and the count of favorites of each tweet which means both values increase and decrease accordingly and it needs further investigation to check if there is causation in this relation \n",
    "<img src='correlation_trend.png'>"
   ]
  },
  {
   "cell_type": "markdown",
   "metadata": {},
   "source": [
    "## dogs breeds distribution \n",
    "#### there are 134 dog breed in the data set meanwhile the golden_retriever is the most common breed with 158 appearance and second is Labrador_retriever with 106 appearance and third place is Pembroke with 95 appearance the top 10 breeds represent 43 % of the tweets\n",
    "<img src=\"golden.jpg\" alt=\"Drawing\" style=\"width: 200px;\"/><img src=\"top10_dog_breeds.png\" alt=\"Drawing\" style=\"width: 300px;\"/>"
   ]
  }
 ],
 "metadata": {
  "kernelspec": {
   "display_name": "Python 3",
   "language": "python",
   "name": "python3"
  },
  "language_info": {
   "codemirror_mode": {
    "name": "ipython",
    "version": 3
   },
   "file_extension": ".py",
   "mimetype": "text/x-python",
   "name": "python",
   "nbconvert_exporter": "python",
   "pygments_lexer": "ipython3",
   "version": "3.7.4"
  }
 },
 "nbformat": 4,
 "nbformat_minor": 2
}
