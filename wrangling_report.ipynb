{
 "cells": [
  {
   "cell_type": "markdown",
   "metadata": {},
   "source": [
    "# wrangling efforts \n",
    "\n",
    "## gathering data\n",
    "\n",
    "- twitter-archive-enhanced.csv was available for download \n",
    "- image tsv used request librabry to get the file and saved it in image.tsv\n",
    "- access the data using Twitter API these data will include retweets counts and favourites counts and save them in API_df"
   ]
  },
  {
   "cell_type": "markdown",
   "metadata": {},
   "source": [
    "\n",
    "## Assesing Archive df\n",
    "### Quality issues\n",
    "- assessing the data there are a lot of quality issues:\n",
    "    - name colume has some wrong entries \n",
    "    - nmae column has missing values that already exist in the tweets text\n",
    "    - timestamp column format is wrong \n",
    "    - timestamp not date data type\n",
    "    - dominator is recorded wrong in 3 observations\n",
    "    - numerator is recorded wrong in 3 observations\n",
    "    - drop records with no images\n",
    "    - drop records that are retweets\n",
    "    - drop records that is has no mattch in the API_df\n",
    "    - convert the expanded_urls to links \n",
    "    \n",
    "## tidiness issues\n",
    "- the doggo floofer pupper puppo columns are values not variables\n",
    "- the observations about the tweets are spread across 3 tables\n"
   ]
  },
  {
   "cell_type": "markdown",
   "metadata": {},
   "source": [
    "## Assessing image df\n",
    "\n",
    "### Quality issues\n",
    "- assessing the data there are a lot of quality issues:\n",
    "- tweet_id is wrong data type\n",
    "- drop records that have a false prediction in the 3 predctions \n",
    "- drop records that are retweets and not orginal tweets\n",
    "- drop records that are not in the API_df\n",
    "\n",
    " \n",
    " "
   ]
  },
  {
   "cell_type": "markdown",
   "metadata": {},
   "source": [
    "## Assessing API df\n",
    "\n",
    "### Quality issues\n",
    "- tweet_id is wrong data type\n",
    "\n",
    "\n",
    " "
   ]
  },
  {
   "cell_type": "markdown",
   "metadata": {},
   "source": [
    "# cleaning \n",
    "## Archive df\n",
    "- extract the missing names from the tweet text using str.extract  the mssing values format is \"(named\\s+[A-Z]+[a-z]+)\" and \"(name\\s+is\\s+[A-Z]+[a-z]+)\"\n",
    "- covert the wrong values in name column such as \"a\", \"an\", etc. to None using .replace()\n",
    "- fix the format of the timestamp using string slicing\n",
    "- convert timestamp to datetime datatype using pd.to_datetime\n",
    "- droping the retweets observations using indexing\n",
    "- droping retweeted and reply columns using drop using pd.drop()\n",
    "- fix the wrong numerator values manually only found 3 values by indexing\n",
    "- fix the wrong denominator values only found 3 values by indexing \n",
    "- join the arc df and API_df inner join\n",
    "- filter the arc df to tweets with images only\n",
    "- combine the data from the doggo floofer pupper puppo columns in one column\n",
    "- change tweet id data type using astype()"
   ]
  },
  {
   "cell_type": "markdown",
   "metadata": {},
   "source": [
    "## image df\n",
    "- droping all observations that are not dogs in all 3 predictions using indexing\n",
    "- filter the img df to have only orginal tweets no retweets\n",
    "- creating new dataframe dog_breed having the dogs breedsfrom the 3 prediction in one column from the img_df\n",
    "- adding the dog name and stage to this dataframe\n",
    "- change tweet id data type using astype()"
   ]
  },
  {
   "cell_type": "markdown",
   "metadata": {},
   "source": [
    "## APi df\n",
    "- change tweet id data type using astype()"
   ]
  }
 ],
 "metadata": {
  "kernelspec": {
   "display_name": "Python 3",
   "language": "python",
   "name": "python3"
  },
  "language_info": {
   "codemirror_mode": {
    "name": "ipython",
    "version": 3
   },
   "file_extension": ".py",
   "mimetype": "text/x-python",
   "name": "python",
   "nbconvert_exporter": "python",
   "pygments_lexer": "ipython3",
   "version": "3.7.4"
  }
 },
 "nbformat": 4,
 "nbformat_minor": 2
}
